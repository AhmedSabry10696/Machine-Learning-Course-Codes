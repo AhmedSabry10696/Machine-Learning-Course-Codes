{
 "cells": [
  {
   "cell_type": "code",
   "execution_count": 1,
   "metadata": {},
   "outputs": [],
   "source": [
    "def printstar():\n",
    "    for line in range(2):\n",
    "        for i in range(10):\n",
    "            print('*',end='')\n",
    "        print('\\n')"
   ]
  },
  {
   "cell_type": "code",
   "execution_count": 3,
   "metadata": {},
   "outputs": [
    {
     "name": "stdout",
     "output_type": "stream",
     "text": [
      "**********\n",
      "\n",
      "**********\n",
      "\n",
      "welcome to pyhton course\n",
      "**********\n",
      "\n",
      "**********\n",
      "\n"
     ]
    }
   ],
   "source": [
    "printstar()\n",
    "print('welcome to pyhton course')\n",
    "printstar()\n"
   ]
  },
  {
   "cell_type": "code",
   "execution_count": 4,
   "metadata": {},
   "outputs": [],
   "source": [
    "def printstar(x,y):              # required argument\n",
    "    for line in range(x):\n",
    "        for i in range(y):\n",
    "            print('*',end='')\n",
    "        print('\\n')"
   ]
  },
  {
   "cell_type": "code",
   "execution_count": 5,
   "metadata": {},
   "outputs": [
    {
     "name": "stdout",
     "output_type": "stream",
     "text": [
      "**********\n",
      "\n",
      "**********\n",
      "\n",
      "**********\n",
      "\n",
      "welcome to pyhton course\n",
      "**********\n",
      "\n",
      "**********\n",
      "\n"
     ]
    }
   ],
   "source": [
    "printstar(3,10)\n",
    "print('welcome to pyhton course')\n",
    "printstar(2,10)"
   ]
  },
  {
   "cell_type": "code",
   "execution_count": 7,
   "metadata": {},
   "outputs": [],
   "source": [
    "def printstar(y,x = 1):              # default argument must be at end\n",
    "    for line in range(x):\n",
    "        for i in range(y):\n",
    "            print('*',end='')\n",
    "        print('\\n')"
   ]
  },
  {
   "cell_type": "code",
   "execution_count": 9,
   "metadata": {},
   "outputs": [
    {
     "name": "stdout",
     "output_type": "stream",
     "text": [
      "**********\n",
      "\n",
      "**********\n",
      "\n",
      "**********\n",
      "\n",
      "welcome to pyhton course\n",
      "**********\n",
      "\n"
     ]
    }
   ],
   "source": [
    "printstar(10,3)\n",
    "print('welcome to pyhton course')\n",
    "printstar(10)"
   ]
  },
  {
   "cell_type": "code",
   "execution_count": 10,
   "metadata": {},
   "outputs": [],
   "source": [
    "def printstar(y = 1,x = 1):              # default argument must be at end\n",
    "    for line in range(x):\n",
    "        for i in range(y):\n",
    "            print('*',end='')\n",
    "        print('\\n')"
   ]
  },
  {
   "cell_type": "code",
   "execution_count": 11,
   "metadata": {},
   "outputs": [
    {
     "name": "stdout",
     "output_type": "stream",
     "text": [
      "*\n",
      "\n"
     ]
    }
   ],
   "source": [
    "printstar()"
   ]
  },
  {
   "cell_type": "code",
   "execution_count": 12,
   "metadata": {},
   "outputs": [
    {
     "name": "stdout",
     "output_type": "stream",
     "text": [
      "**********\n",
      "\n",
      "**********\n",
      "\n",
      "**********\n",
      "\n",
      "**********\n",
      "\n",
      "**********\n",
      "\n"
     ]
    }
   ],
   "source": [
    "printstar(x=5,y=10)"
   ]
  },
  {
   "cell_type": "code",
   "execution_count": 14,
   "metadata": {},
   "outputs": [
    {
     "name": "stdout",
     "output_type": "stream",
     "text": [
      "values in function : [10, 20, 30, [1, 2, 3, 4]]\n",
      "values out function : [10, 20, 30, [1, 2, 3, 4]]\n"
     ]
    }
   ],
   "source": [
    "def changeme(x):                    # pass by refrence\n",
    "    x.append([1,2,3,4])\n",
    "    print('values in function :',x)\n",
    "\n",
    "mylist = [10,20,30]\n",
    "changeme(mylist)\n",
    "print('values out function :',mylist)\n",
    "    "
   ]
  },
  {
   "cell_type": "code",
   "execution_count": 15,
   "metadata": {},
   "outputs": [
    {
     "name": "stdout",
     "output_type": "stream",
     "text": [
      "values in function : [1, 2, 3, 4]\n",
      "values out function : [10, 20, 30]\n"
     ]
    }
   ],
   "source": [
    "def changeme(x):\n",
    "    x = [1,2,3,4]\n",
    "    print('values in function :',x)\n",
    "\n",
    "mylist = [10,20,30]\n",
    "changeme(mylist)\n",
    "print('values out function :',mylist)"
   ]
  },
  {
   "cell_type": "code",
   "execution_count": 16,
   "metadata": {},
   "outputs": [
    {
     "name": "stdout",
     "output_type": "stream",
     "text": [
      "total in :  30\n",
      "total out :  0\n"
     ]
    }
   ],
   "source": [
    "total = 0    # global var\n",
    "def summ(num1,num2):\n",
    "    total = num1+num2       # local\n",
    "    print(\"total in : \",total)\n",
    "\n",
    "summ(10,20)\n",
    "print('total out : ',total)"
   ]
  },
  {
   "cell_type": "code",
   "execution_count": 17,
   "metadata": {},
   "outputs": [
    {
     "name": "stdout",
     "output_type": "stream",
     "text": [
      "total in :  30\n",
      "total out :  30\n"
     ]
    }
   ],
   "source": [
    "total = 0    # global var\n",
    "def summ(num1,num2):\n",
    "    global total          \n",
    "    total = num1+num2       # global\n",
    "    print(\"total in : \",total)\n",
    "\n",
    "summ(10,20)\n",
    "print('total out : ',total)"
   ]
  },
  {
   "cell_type": "code",
   "execution_count": 18,
   "metadata": {},
   "outputs": [
    {
     "name": "stdout",
     "output_type": "stream",
     "text": [
      "total sum in :  30\n",
      "total sub in :  -10\n",
      "total out :  -10\n"
     ]
    }
   ],
   "source": [
    "total = 0    # global var\n",
    "\n",
    "def summ(num1,num2):\n",
    "    global total          \n",
    "    total = num1+num2       # global\n",
    "    print(\"total sum in : \",total)\n",
    "    \n",
    "def sub(num1,num2):\n",
    "    global total          \n",
    "    total = num1-num2       # global\n",
    "    print(\"total sub in : \",total)\n",
    "\n",
    "summ(10,20)\n",
    "sub(10,20)\n",
    "print('total out : ',total)"
   ]
  },
  {
   "cell_type": "code",
   "execution_count": 23,
   "metadata": {},
   "outputs": [],
   "source": [
    "total = 0\n",
    "def summ(num1,num2):      \n",
    "    total = num1+num2\n",
    "    return(total)\n",
    "    \n",
    "def sub(num1,num2):         \n",
    "    total = num1-num2       # global\n",
    "    return(total)"
   ]
  },
  {
   "cell_type": "code",
   "execution_count": 24,
   "metadata": {},
   "outputs": [
    {
     "name": "stdout",
     "output_type": "stream",
     "text": [
      "total out :  0\n",
      "sum res :  30\n",
      "sub res :  -10\n"
     ]
    }
   ],
   "source": [
    "sumres = summ(10,20)\n",
    "subres = sub(10,20)\n",
    "print('total out : ',total)\n",
    "print('sum res : ',sumres)\n",
    "print('sub res : ',subres)"
   ]
  },
  {
   "cell_type": "code",
   "execution_count": 25,
   "metadata": {},
   "outputs": [
    {
     "name": "stdout",
     "output_type": "stream",
     "text": [
      "6\n"
     ]
    }
   ],
   "source": [
    "def max_of_two( x, y ):\n",
    "    if x > y:\n",
    "        return x\n",
    "    return y\n",
    "def max_of_three( x, y, z ):\n",
    "    return max_of_two( x, max_of_two( y, z ) )\n",
    "print(max_of_three(3, 6, -5))"
   ]
  },
  {
   "cell_type": "code",
   "execution_count": 26,
   "metadata": {},
   "outputs": [
    {
     "name": "stdout",
     "output_type": "stream",
     "text": [
      "[1, 2, 3, 4, 5]\n"
     ]
    }
   ],
   "source": [
    "def unique_list(l):  \n",
    "  x = []  \n",
    "  for a in l:  \n",
    "    if a not in x:  \n",
    "      x.append(a)  \n",
    "  return x  \n",
    "  \n",
    "print(unique_list([1,2,3,3,3,3,4,5]))"
   ]
  },
  {
   "cell_type": "code",
   "execution_count": 28,
   "metadata": {},
   "outputs": [
    {
     "name": "stdout",
     "output_type": "stream",
     "text": [
      "True\n"
     ]
    }
   ],
   "source": [
    "def test_prime(n):  \n",
    "    if (n==1):  \n",
    "        return False  \n",
    "    elif (n==2):  \n",
    "        return True;  \n",
    "    else:  \n",
    "        for x in range(2,n):  \n",
    "            if(n % x==0):  \n",
    "                return False  \n",
    "        return True               \n",
    "print(test_prime(5))"
   ]
  },
  {
   "cell_type": "code",
   "execution_count": 29,
   "metadata": {},
   "outputs": [
    {
     "name": "stdout",
     "output_type": "stream",
     "text": [
      "dcba4321\n"
     ]
    }
   ],
   "source": [
    "def string_reverse(str1):  \n",
    "  \n",
    "    rstr1 = ''  \n",
    "    index = len(str1)  \n",
    "    while index > 0:  \n",
    "        rstr1 += str1[ index - 1 ]  \n",
    "        index = index - 1  \n",
    "    return rstr1  \n",
    "print(string_reverse('1234abcd'))"
   ]
  },
  {
   "cell_type": "code",
   "execution_count": null,
   "metadata": {},
   "outputs": [],
   "source": []
  }
 ],
 "metadata": {
  "kernelspec": {
   "display_name": "Python 3",
   "language": "python",
   "name": "python3"
  },
  "language_info": {
   "codemirror_mode": {
    "name": "ipython",
    "version": 3
   },
   "file_extension": ".py",
   "mimetype": "text/x-python",
   "name": "python",
   "nbconvert_exporter": "python",
   "pygments_lexer": "ipython3",
   "version": "3.6.4"
  }
 },
 "nbformat": 4,
 "nbformat_minor": 2
}
