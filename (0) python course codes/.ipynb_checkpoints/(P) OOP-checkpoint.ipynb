{
 "cells": [
  {
   "cell_type": "code",
   "execution_count": null,
   "metadata": {},
   "outputs": [],
   "source": [
    "class dog:\n",
    "    color = []\n",
    "    eyecolor = []\n",
    "    h = None\n",
    "    l = None\n",
    "    m = None"
   ]
  },
  {
   "cell_type": "code",
   "execution_count": null,
   "metadata": {},
   "outputs": [],
   "source": [
    "reks = dog()\n",
    "lase = dog()\n",
    "type(reks)"
   ]
  },
  {
   "cell_type": "code",
   "execution_count": null,
   "metadata": {},
   "outputs": [],
   "source": [
    "reks.color = ['black','gray','white']\n",
    "lase.color = ['gold','black','red']\n",
    "print('reks color',reks.color)\n",
    "print('lase color',lase.color)"
   ]
  },
  {
   "cell_type": "code",
   "execution_count": null,
   "metadata": {},
   "outputs": [],
   "source": [
    "# class var constant for each obj from class\n",
    "# instance var diffrent from obj to another "
   ]
  },
  {
   "cell_type": "code",
   "execution_count": null,
   "metadata": {},
   "outputs": [],
   "source": [
    "class dog:\n",
    "    color = []"
   ]
  },
  {
   "cell_type": "code",
   "execution_count": null,
   "metadata": {},
   "outputs": [],
   "source": [
    "reks = dog()\n",
    "lase = dog()"
   ]
  },
  {
   "cell_type": "code",
   "execution_count": null,
   "metadata": {},
   "outputs": [],
   "source": [
    "print('reks color',reks.color)\n",
    "print('lase color',lase.color)\n",
    "print('dog color',dog.color)"
   ]
  },
  {
   "cell_type": "code",
   "execution_count": null,
   "metadata": {},
   "outputs": [],
   "source": [
    "class dog:\n",
    "    color = ['black']"
   ]
  },
  {
   "cell_type": "code",
   "execution_count": null,
   "metadata": {},
   "outputs": [],
   "source": [
    "reks = dog()\n",
    "lase = dog()"
   ]
  },
  {
   "cell_type": "code",
   "execution_count": null,
   "metadata": {},
   "outputs": [],
   "source": [
    "print('reks color',reks.color)\n",
    "print('lase color',lase.color)\n",
    "print('dog color',dog.color)"
   ]
  },
  {
   "cell_type": "code",
   "execution_count": null,
   "metadata": {},
   "outputs": [],
   "source": [
    "class dog:\n",
    "    color = ['black']"
   ]
  },
  {
   "cell_type": "code",
   "execution_count": null,
   "metadata": {},
   "outputs": [],
   "source": [
    "reks = dog()\n",
    "lase = dog()"
   ]
  },
  {
   "cell_type": "code",
   "execution_count": null,
   "metadata": {},
   "outputs": [],
   "source": [
    "reks.color = ['black','gray','white']\n",
    "lase.color = ['gold','black','red']"
   ]
  },
  {
   "cell_type": "code",
   "execution_count": null,
   "metadata": {},
   "outputs": [],
   "source": [
    "print('reks color',reks.color)\n",
    "print('lase color',lase.color)\n",
    "print('dog color',dog.color)"
   ]
  },
  {
   "cell_type": "code",
   "execution_count": null,
   "metadata": {},
   "outputs": [],
   "source": [
    "class dog:\n",
    "    numOfDogs = 0\n",
    "    def __init__(self,col,eyecol):\n",
    "        dog.numOfDogs +=1\n",
    "        self.color = col      \n",
    "        self.eyecolor = eyecol"
   ]
  },
  {
   "cell_type": "code",
   "execution_count": null,
   "metadata": {},
   "outputs": [],
   "source": [
    "reks = dog(col=['black','gray'],eyecol='green')\n",
    "print(dog.numOfDogs)\n",
    "print(reks.numOfDogs)\n",
    "lase = dog(col=['gold','black'],eyecol='blue')\n",
    "print(dog.numOfDogs)\n",
    "print(reks.numOfDogs)\n",
    "print(lase.numOfDogs)"
   ]
  },
  {
   "cell_type": "code",
   "execution_count": null,
   "metadata": {},
   "outputs": [],
   "source": [
    "print('reks color:',reks.color)\n",
    "print('reks eye color:',reks.eyecolor)\n",
    "print('lase color:',lase.color)\n",
    "print('lase eye color:',lase.eyecolor)\n"
   ]
  },
  {
   "cell_type": "code",
   "execution_count": null,
   "metadata": {},
   "outputs": [],
   "source": [
    "class dog:\n",
    "    numOfDogs = 0\n",
    "    def __init__(self,col,eyecol,l=30,w=1):   # l,w default if not passed\n",
    "        dog.numOfDogs +=1\n",
    "        self.color = col      \n",
    "        self.eyecolor = eyecol\n",
    "        self.length = l\n",
    "        self.weight = w"
   ]
  },
  {
   "cell_type": "code",
   "execution_count": null,
   "metadata": {},
   "outputs": [],
   "source": [
    "reks = dog(col=['black','gray'],eyecol='green',l=40,w=1)\n",
    "lase = dog(col=['gold','black'],eyecol='blue')"
   ]
  },
  {
   "cell_type": "code",
   "execution_count": null,
   "metadata": {},
   "outputs": [],
   "source": [
    "print('reks:\\tcolor\\t\\teyecolor\\tlength\\tweight')\n",
    "print(reks.color,\"\\t\",reks.eyecolor,\"\\t\\t\",reks.length,\"\\t\",reks.weight,\"\\n\")\n",
    "\n",
    "print('lase:\\tcolor\\t\\teyecolor\\tlength\\tweight')\n",
    "print(lase.color,\"\\t\",lase.eyecolor,\"\\t\\t\",lase.length,\"\\t\",lase.weight)"
   ]
  },
  {
   "cell_type": "code",
   "execution_count": 17,
   "metadata": {},
   "outputs": [],
   "source": [
    "class dog:\n",
    "    numOfDogs = 0\n",
    "    def __init__(self,n,col,eyecol,l=30,w=1,nationality='jp'):   # l,w default if not passed\n",
    "        dog.numOfDogs +=1\n",
    "        self.color = col      \n",
    "        self.eyecolor = eyecol\n",
    "        self.length = l\n",
    "        self.weight = w\n",
    "        self.name = n\n",
    "        self.nat = nationality\n",
    "    \n",
    "    def run(self):\n",
    "        print(self.name,' is running now')\n",
    "    \n",
    "    def sit(self,command):\n",
    "        if command == 'Ni Haw' and self.nat == 'jp':\n",
    "            print(self.name , 'is sitting now and Nihow daw ')\n",
    "        elif command == 'sit' and self.nat == 'br':\n",
    "            print(self.name,'is sitting now and happy')\n",
    "        elif command == 'ray7' and self.nat == 'egy':\n",
    "            print(self.name,'marmt nafso fel tena :D')\n",
    "        else:\n",
    "            print(self.name,'didnt got it')"
   ]
  },
  {
   "cell_type": "code",
   "execution_count": 18,
   "metadata": {},
   "outputs": [],
   "source": [
    "reks = dog(n='reks',col=['black','gray'],eyecol='green',l=40,w=1,nationality='egy')\n",
    "lase = dog(n= 'lase',col=['gold','black'],eyecol='blue')"
   ]
  },
  {
   "cell_type": "code",
   "execution_count": 19,
   "metadata": {},
   "outputs": [
    {
     "name": "stdout",
     "output_type": "stream",
     "text": [
      "reks  is running now\n",
      "reks marmt nafso fel tena :D\n"
     ]
    }
   ],
   "source": [
    "reks.run()\n",
    "reks.sit('ray7')"
   ]
  },
  {
   "cell_type": "code",
   "execution_count": 20,
   "metadata": {},
   "outputs": [
    {
     "name": "stdout",
     "output_type": "stream",
     "text": [
      "lase  is running now\n",
      "lase is sitting now and Nihow daw \n",
      "lase didnt got it\n"
     ]
    }
   ],
   "source": [
    "lase.run()\n",
    "lase.sit('Ni Haw')\n",
    "lase.sit('ray7')"
   ]
  },
  {
   "cell_type": "code",
   "execution_count": null,
   "metadata": {},
   "outputs": [],
   "source": []
  }
 ],
 "metadata": {
  "kernelspec": {
   "display_name": "Python 3",
   "language": "python",
   "name": "python3"
  },
  "language_info": {
   "codemirror_mode": {
    "name": "ipython",
    "version": 3
   },
   "file_extension": ".py",
   "mimetype": "text/x-python",
   "name": "python",
   "nbconvert_exporter": "python",
   "pygments_lexer": "ipython3",
   "version": "3.6.4"
  }
 },
 "nbformat": 4,
 "nbformat_minor": 2
}
