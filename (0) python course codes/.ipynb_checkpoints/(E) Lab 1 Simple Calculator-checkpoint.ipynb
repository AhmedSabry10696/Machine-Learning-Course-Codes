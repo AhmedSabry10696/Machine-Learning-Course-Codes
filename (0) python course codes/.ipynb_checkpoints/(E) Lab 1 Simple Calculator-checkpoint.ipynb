{
 "cells": [
  {
   "cell_type": "code",
   "execution_count": 2,
   "metadata": {},
   "outputs": [
    {
     "name": "stdout",
     "output_type": "stream",
     "text": [
      "plz enter 1st num:20\n",
      "plz enter 2nd num:10\n",
      "sum =  30.0\n",
      "sub =  10.0\n",
      "mul =  200.0\n",
      "div =  2.0\n"
     ]
    }
   ],
   "source": [
    "# read 1st number\n",
    "num1 = input('plz enter 1st num:')\n",
    "# read 2nd number\n",
    "num2 = input('plz enter 2nd num:')\n",
    "# casting inputs to float from string\n",
    "num1 = float(num1)\n",
    "num2 = float(num2)\n",
    "# print sum,sub,mul,and div\n",
    "print(\"sum = \", num1+num2)\n",
    "print(\"sub = \", num1-num2)\n",
    "print(\"mul = \", num1*num2)\n",
    "print(\"div = \", num1/num2)\n"
   ]
  },
  {
   "cell_type": "code",
   "execution_count": null,
   "metadata": {},
   "outputs": [],
   "source": []
  }
 ],
 "metadata": {
  "kernelspec": {
   "display_name": "Python 3",
   "language": "python",
   "name": "python3"
  },
  "language_info": {
   "codemirror_mode": {
    "name": "ipython",
    "version": 3
   },
   "file_extension": ".py",
   "mimetype": "text/x-python",
   "name": "python",
   "nbconvert_exporter": "python",
   "pygments_lexer": "ipython3",
   "version": "3.6.4"
  }
 },
 "nbformat": 4,
 "nbformat_minor": 2
}
