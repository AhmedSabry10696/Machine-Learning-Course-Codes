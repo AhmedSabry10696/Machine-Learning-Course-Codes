{
 "cells": [
  {
   "cell_type": "code",
   "execution_count": 8,
   "metadata": {},
   "outputs": [
    {
     "name": "stdout",
     "output_type": "stream",
     "text": [
      "enter your age:20\n",
      "enter your gender:male\n",
      "MALE OK\n"
     ]
    }
   ],
   "source": [
    "# read age \n",
    "age = input('enter your age:')\n",
    "gender = input('enter your gender:')\n",
    "\n",
    "# casting age into string\n",
    "age = int(age)\n",
    "\n",
    "# compare age\n",
    "if age >= 18 and (gender == 'm' or gender == 'male'):\n",
    "    print('MALE OK')\n",
    "\n",
    "elif age<18 and (gender == 'm' or gender == 'male'):\n",
    "    print('MALE NO')\n",
    "\n",
    "elif age >= 20 and (gender == 'f' or gender == 'female'):\n",
    "    print('FEMALE OK')\n",
    "elif age < 20 and (gender == 'f' or gender == 'female'):\n",
    "    print('FEMALE NO')\n",
    "else:\n",
    "    print('undefined gender')"
   ]
  },
  {
   "cell_type": "code",
   "execution_count": null,
   "metadata": {},
   "outputs": [],
   "source": []
  }
 ],
 "metadata": {
  "kernelspec": {
   "display_name": "Python 3",
   "language": "python",
   "name": "python3"
  },
  "language_info": {
   "codemirror_mode": {
    "name": "ipython",
    "version": 3
   },
   "file_extension": ".py",
   "mimetype": "text/x-python",
   "name": "python",
   "nbconvert_exporter": "python",
   "pygments_lexer": "ipython3",
   "version": "3.6.4"
  }
 },
 "nbformat": 4,
 "nbformat_minor": 2
}
