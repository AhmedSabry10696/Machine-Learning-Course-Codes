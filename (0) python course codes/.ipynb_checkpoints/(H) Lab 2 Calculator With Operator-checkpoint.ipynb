{
 "cells": [
  {
   "cell_type": "code",
   "execution_count": 3,
   "metadata": {},
   "outputs": [
    {
     "name": "stdout",
     "output_type": "stream",
     "text": [
      "plz enter 1st num:60\n",
      "plz enter 2nd num:30\n",
      "plz enter opertion:\\\n",
      "div =  2.0\n"
     ]
    }
   ],
   "source": [
    "num1 = input('plz enter 1st num:') \n",
    "num2 = input('plz enter 2nd num:')\n",
    "op = input('plz enter opertion:')\n",
    "\n",
    "num1 = float(num1)\n",
    "num2 = float(num2)\n",
    "\n",
    "if op == '+':\n",
    "    res = num1+num2\n",
    "    print(\"sum = \",res)\n",
    "elif op == '-':\n",
    "    res = num1-num2\n",
    "    print(\"sub = \",res)\n",
    "elif op == '*' or op == 'X' or op == 'x':\n",
    "    res = num1*num2\n",
    "    print(\"mul = \",res)\n",
    "elif op == '/' or op == '\\\\':      # not op == '\\'\n",
    "    res = num1/num2\n",
    "    print(\"div = \",res)\n",
    "    "
   ]
  },
  {
   "cell_type": "code",
   "execution_count": null,
   "metadata": {},
   "outputs": [],
   "source": [
    "# if elif  more efficeint than if  if "
   ]
  }
 ],
 "metadata": {
  "kernelspec": {
   "display_name": "Python 3",
   "language": "python",
   "name": "python3"
  },
  "language_info": {
   "codemirror_mode": {
    "name": "ipython",
    "version": 3
   },
   "file_extension": ".py",
   "mimetype": "text/x-python",
   "name": "python",
   "nbconvert_exporter": "python",
   "pygments_lexer": "ipython3",
   "version": "3.6.4"
  }
 },
 "nbformat": 4,
 "nbformat_minor": 2
}
